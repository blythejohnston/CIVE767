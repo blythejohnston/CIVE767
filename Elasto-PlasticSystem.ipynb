{
 "cells": [
  {
   "cell_type": "markdown",
   "id": "d3bbd3e0",
   "metadata": {},
   "source": [
    "## Elasto-Plastic System with Newmark-Beta"
   ]
  },
  {
   "cell_type": "markdown",
   "id": "3ad4c55a",
   "metadata": {},
   "source": [
    "### Import Necessary Packages and Functions"
   ]
  },
  {
   "cell_type": "code",
   "execution_count": 33,
   "id": "378d2d9a",
   "metadata": {},
   "outputs": [],
   "source": [
    "import numpy as np\n",
    "from numpy import sqrt\n",
    "from matplotlib import pyplot as plt"
   ]
  },
  {
   "cell_type": "markdown",
   "id": "cb6d4665",
   "metadata": {},
   "source": [
    "### Set Variable Values for System"
   ]
  },
  {
   "cell_type": "code",
   "execution_count": 34,
   "id": "85379a41",
   "metadata": {},
   "outputs": [],
   "source": [
    "m = 50 #mass\n",
    "k = 51.5 #stiffness\n",
    "xi = 0.01 #damping ratio - use decimal not percentage\n",
    "wn = sqrt(k/m)\n",
    "Tn=2*np.pi/wn\n",
    "c = xi*2*sqrt(m*k) # determine damping coef. from damping ratio\n",
    "wd = wn*sqrt(1.0-xi**2.0)"
   ]
  },
  {
   "cell_type": "markdown",
   "id": "161d2199",
   "metadata": {},
   "source": [
    "### Establish Initial Conditions"
   ]
  },
  {
   "cell_type": "code",
   "execution_count": 35,
   "id": "4226d1f0",
   "metadata": {},
   "outputs": [],
   "source": [
    "## Load ground motion record\n",
    "record = np.loadtxt('elcentro.txt')\n",
    "record[:,1] = np.array(record[:,1])*32.174049*12 #time history was given in g - so convert to in/s^2\n",
    "## Initial Conditions\n",
    "f0=0 # magnitude of force\n",
    "u0=0 #initial displacement\n",
    "v0=0 # initial velocity\n",
    "\n",
    "## for E-P:\n",
    "fs0=u0*k\n",
    "a0=(f0-c*v0-fs0)/m"
   ]
  },
  {
   "cell_type": "markdown",
   "id": "44b36d77",
   "metadata": {},
   "source": [
    "### Elasto-Plastic Newmark-Beta"
   ]
  },
  {
   "cell_type": "code",
   "execution_count": 28,
   "id": "9b04dec7",
   "metadata": {},
   "outputs": [],
   "source": [
    "##Newmark Beta Variables - Based on Linear Acceleration Method\n",
    "gamma = 1/2\n",
    "beta = 1/6\n",
    "T1=5 #duration of motion evaluation\n",
    "dt=0.02 #time step\n",
    "N=int(T1/dt) #total number of time points\n",
    "t=np.arange(0.0,T1,dt) #generate time vector\n",
    "f = np.zeros(N)\n",
    "Fbar = np.zeros(N)\n",
    "Rbar = np.zeros(N)\n",
    "u = np.zeros(N)\n",
    "# Du = np.zeros(1)\n",
    "dudt = np.zeros(N)\n",
    "dudt2 = np.zeros(N)\n",
    "kT = np.zeros(N)\n",
    "kbarT = np.zeros(N)\n",
    "fs = np.zeros(N)\n",
    "u[0]=u0\n",
    "dudt[0]=v0\n",
    "dudt2[0]=a0\n",
    "\n",
    "## for E-P:\n",
    "kT[0]=k\n",
    "fs[0]=u[0]*kT[0]\n",
    "\n",
    "## Newmark-Beta Method (Forced)\n",
    "a1=(m/(beta*dt**2))+(gamma/(beta*dt))*c\n",
    "a2=m/(beta*dt)+(gamma/beta-1)*c\n",
    "a3=(1/(2*beta)-1)*m+dt*(gamma/(2*beta)-1)*c\n",
    "dudt20=a0\n",
    "kbarT[0] = k + a1\n",
    "Fy=7.5\n",
    "NFy=-7.5\n",
    "\n",
    "\n",
    "for i in range (N-1):\n",
    "    if i < (len(record)-1):\n",
    "        f[i+1] = -m * (record[i+1,1])\n",
    "    else:\n",
    "        f[i+1] = 0\n",
    "    u[i+1] = u[i]\n",
    "    fs[i+1] = fs[i]\n",
    "    kT[i+1] = kT[i]\n",
    "    Fbar[i+1] = f[i+1] + a1*u[i] + a2*dudt[i] + a3*dudt2[i]\n",
    "    Rbar[i+1] = Fbar[i+1]-fs[i+1]-a1*u[i+1]\n",
    "    while abs(Rbar[i+1]) > 10**(-8):\n",
    "        kbarT[i+1] = kT[i+1] + a1\n",
    "        Du = Rbar[i+1] / kbarT[i+1]\n",
    "        u[i+1] = u[i+1] + Du\n",
    "        fsi = fs[i] + k * (u[i+1]-u[i])\n",
    "        if fsi >= Fy:\n",
    "            fs[i+1] = Fy\n",
    "            kT[i+1] = 0\n",
    "        elif fsi <= NFy:\n",
    "            fs[i+1] = NFy\n",
    "            kT[i+1] = 0\n",
    "        else:\n",
    "            fs[i+1] = fsi\n",
    "            kT[i+1] = k\n",
    "        Rbar[i+1] = Fbar[i+1]-fs[i+1]-a1*u[i+1]\n",
    "    else:\n",
    "        dudt[i+1]=(gamma/(beta*dt))*(u[i+1]-u[i])+(1-gamma/beta)*dudt[i]+dt*(1-gamma/(2*beta))*dudt2[i]\n",
    "        dudt2[i+1]=(1/(beta*dt**2))*(u[i+1]-u[i])-dudt[i]/(beta*dt)-(1/(2*beta)-1)*dudt2[i]"
   ]
  },
  {
   "cell_type": "code",
   "execution_count": 29,
   "id": "13959333",
   "metadata": {},
   "outputs": [
    {
     "data": {
      "text/plain": [
       "[<matplotlib.lines.Line2D at 0x173ac38e3b0>]"
      ]
     },
     "execution_count": 29,
     "metadata": {},
     "output_type": "execute_result"
    },
    {
     "data": {
      "image/png": "[encoded data removed]",
      "text/plain": [
       "<Figure size 432x288 with 1 Axes>"
      ]
     },
     "metadata": {
      "needs_background": "light"
     },
     "output_type": "display_data"
    }
   ],
   "source": [
    "plt.plot(u,fs)"
   ]
  },
  {
   "cell_type": "code",
   "execution_count": 32,
   "id": "2b4aaa28",
   "metadata": {},
   "outputs": [
    {
     "data": {
      "text/plain": [
       "[<matplotlib.lines.Line2D at 0x173ac4c5de0>]"
      ]
     },
     "execution_count": 32,
     "metadata": {},
     "output_type": "execute_result"
    },
    {
     "data": {
      "image/png": "[encoded data removed]",
      "text/plain": [
       "<Figure size 432x288 with 1 Axes>"
      ]
     },
     "metadata": {
      "needs_background": "light"
     },
     "output_type": "display_data"
    }
   ],
   "source": [
    "plt.plot(t,u)"
   ]
  },
  {
   "cell_type": "code",
   "execution_count": null,
   "id": "2824cf13",
   "metadata": {},
   "outputs": [],
   "source": []
  }
 ],
 "metadata": {
  "kernelspec": {
   "display_name": "Python 3 (ipykernel)",
   "language": "python",
   "name": "python3"
  },
  "language_info": {
   "codemirror_mode": {
    "name": "ipython",
    "version": 3
   },
   "file_extension": ".py",
   "mimetype": "text/x-python",
   "name": "python",
   "nbconvert_exporter": "python",
   "pygments_lexer": "ipython3",
   "version": "3.10.2"
  }
 },
 "nbformat": 4,
 "nbformat_minor": 5
}
