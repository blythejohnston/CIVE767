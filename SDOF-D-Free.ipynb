{
 "cells": [
  {
   "cell_type": "markdown",
   "id": "0af4400b",
   "metadata": {},
   "source": [
    "## SDOF Damped under Free Vibration"
   ]
  },
  {
   "cell_type": "markdown",
   "id": "632d5c16",
   "metadata": {},
   "source": [
    "### Import Necessary Packages and Functions"
   ]
  },
  {
   "cell_type": "code",
   "execution_count": null,
   "id": "2b9213de",
   "metadata": {},
   "outputs": [],
   "source": [
    "import numpy as np\n",
    "from numpy import sqrt\n",
    "from matplotlib import pyplot as plt"
   ]
  },
  {
   "cell_type": "markdown",
   "id": "e2a21e13",
   "metadata": {},
   "source": [
    "### Set Variable Values for System"
   ]
  },
  {
   "cell_type": "code",
   "execution_count": null,
   "id": "2d53a2e5",
   "metadata": {},
   "outputs": [],
   "source": [
    "m = 50 #mass\n",
    "k = 51.5 #stiffness\n",
    "xi = 0.01 #damping ratio - use decimal not percentage\n",
    "wn = sqrt(k/m)\n",
    "c = xi*2*sqrt(m*k) # determine damping coef. from damping ratio\n",
    "wd = wn*sqrt(1.0-xi**2.0)"
   ]
  },
  {
   "cell_type": "markdown",
   "id": "bc099152",
   "metadata": {},
   "source": [
    "### Establish Initial Conditions"
   ]
  },
  {
   "cell_type": "code",
   "execution_count": null,
   "id": "4de90d54",
   "metadata": {},
   "outputs": [],
   "source": [
    "F0=0 #no forcing function in free vibration\n",
    "x0=2 #initial displacement\n",
    "v0=1 # initial velocity"
   ]
  },
  {
   "cell_type": "markdown",
   "id": "b3eaac44",
   "metadata": {},
   "source": [
    "### Setup Sampling Protocol"
   ]
  },
  {
   "cell_type": "code",
   "execution_count": null,
   "id": "dbfba136",
   "metadata": {},
   "outputs": [],
   "source": [
    "T1=100 #duration of motion evaluation\n",
    "deltaT=0.02 #time step\n",
    "N=T1/deltaT #total number of time points\n",
    "t=np.arange(0.0,T1,deltaT) #generate time vector\n",
    "x = []\n",
    "v = []\n",
    "X = []\n",
    "for ti in t:\n",
    "  x = (np.exp(-xi*wn*ti))*((x0)*np.cos(wd*ti)+((v0+xi*wn*x0)/wd)*np.sin(wd*ti))\n",
    "  X.append(x)"
   ]
  },
  {
   "cell_type": "markdown",
   "id": "6b3eca8c",
   "metadata": {},
   "source": [
    "### Plotting the Resulting Displacement Response"
   ]
  },
  {
   "cell_type": "code",
   "execution_count": null,
   "id": "3467b68f",
   "metadata": {},
   "outputs": [],
   "source": [
    "plt.plot(t,X)\n",
    "plt.show()"
   ]
  }
 ],
 "metadata": {
  "kernelspec": {
   "display_name": "Python 3 (ipykernel)",
   "language": "python",
   "name": "python3"
  },
  "language_info": {
   "codemirror_mode": {
    "name": "ipython",
    "version": 3
   },
   "file_extension": ".py",
   "mimetype": "text/x-python",
   "name": "python",
   "nbconvert_exporter": "python",
   "pygments_lexer": "ipython3",
   "version": "3.9.5"
  }
 },
 "nbformat": 4,
 "nbformat_minor": 5
}
